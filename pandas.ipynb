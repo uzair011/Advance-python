{
  "nbformat": 4,
  "nbformat_minor": 0,
  "metadata": {
    "colab": {
      "provenance": [],
      "authorship_tag": "ABX9TyMVBvJhjrnZGOeK0ReJgHh2",
      "include_colab_link": true
    },
    "kernelspec": {
      "name": "python3",
      "display_name": "Python 3"
    },
    "language_info": {
      "name": "python"
    }
  },
  "cells": [
    {
      "cell_type": "markdown",
      "metadata": {
        "id": "view-in-github",
        "colab_type": "text"
      },
      "source": [
        "<a href=\"https://colab.research.google.com/github/uzair011/Advance-python/blob/main/pandas.ipynb\" target=\"_parent\"><img src=\"https://colab.research.google.com/assets/colab-badge.svg\" alt=\"Open In Colab\"/></a>"
      ]
    },
    {
      "cell_type": "code",
      "execution_count": 1,
      "metadata": {
        "id": "Dy68FpDIMBJh"
      },
      "outputs": [],
      "source": [
        "import pandas as pd\n",
        "%matplotlib inline"
      ]
    },
    {
      "cell_type": "markdown",
      "source": [
        "**SERIES**\n",
        "\n",
        "\n",
        "\n",
        "*   A series is a single column of data, with row labels for each observation.\n",
        "*   Pandas refers to the row labels as the index of the series.\n",
        "\n"
      ],
      "metadata": {
        "id": "eBVLTC1YNEbE"
      }
    },
    {
      "cell_type": "code",
      "source": [
        "values = 5.6, 5.3, 4.3, 4.2, 5.8, 5.3, 4.6, 7.8, 9.1, 8., 5.7\n",
        "years = list(range(1995, 2017, 2))\n",
        "\n",
        "unemp = pd.Series(data = values, index = years, name = \"Unemployment\")\n",
        "\n",
        "print(unemp)"
      ],
      "metadata": {
        "colab": {
          "base_uri": "https://localhost:8080/"
        },
        "id": "Eb3eUd2LNHMZ",
        "outputId": "d0d21a86-d6aa-4348-caa1-608f831a8c5a"
      },
      "execution_count": 2,
      "outputs": [
        {
          "output_type": "stream",
          "name": "stdout",
          "text": [
            "1995    5.6\n",
            "1997    5.3\n",
            "1999    4.3\n",
            "2001    4.2\n",
            "2003    5.8\n",
            "2005    5.3\n",
            "2007    4.6\n",
            "2009    7.8\n",
            "2011    9.1\n",
            "2013    8.0\n",
            "2015    5.7\n",
            "Name: Unemployment, dtype: float64\n"
          ]
        }
      ]
    },
    {
      "cell_type": "code",
      "source": [
        "print(unemp.index)\n",
        "print(unemp.values)"
      ],
      "metadata": {
        "colab": {
          "base_uri": "https://localhost:8080/"
        },
        "id": "cSHi0fO-OnzX",
        "outputId": "d3e2e181-4ace-46c1-fd1a-2786f3b24d01"
      },
      "execution_count": 3,
      "outputs": [
        {
          "output_type": "stream",
          "name": "stdout",
          "text": [
            "Int64Index([1995, 1997, 1999, 2001, 2003, 2005, 2007, 2009, 2011, 2013, 2015], dtype='int64')\n",
            "[5.6 5.3 4.3 4.2 5.8 5.3 4.6 7.8 9.1 8.  5.7]\n"
          ]
        }
      ]
    },
    {
      "cell_type": "markdown",
      "source": [
        ".head and .tail"
      ],
      "metadata": {
        "id": "v9CMLQuYO8Yy"
      }
    },
    {
      "cell_type": "code",
      "source": [
        "print(unemp.head())\n",
        "print(\"\\n\", unemp.tail(3))"
      ],
      "metadata": {
        "colab": {
          "base_uri": "https://localhost:8080/"
        },
        "id": "nUp9RIbzO-bo",
        "outputId": "0c4af31c-4070-41b6-c2e9-ef9d9366ff40"
      },
      "execution_count": 4,
      "outputs": [
        {
          "output_type": "stream",
          "name": "stdout",
          "text": [
            "1995    5.6\n",
            "1997    5.3\n",
            "1999    4.3\n",
            "2001    4.2\n",
            "2003    5.8\n",
            "Name: Unemployment, dtype: float64\n",
            "\n",
            " 2011    9.1\n",
            "2013    8.0\n",
            "2015    5.7\n",
            "Name: Unemployment, dtype: float64\n"
          ]
        }
      ]
    },
    {
      "cell_type": "markdown",
      "source": [
        "**PLOTTING**"
      ],
      "metadata": {
        "id": "l2PZv8qRSLuu"
      }
    },
    {
      "cell_type": "code",
      "source": [
        "unemp.plot()"
      ],
      "metadata": {
        "colab": {
          "base_uri": "https://localhost:8080/",
          "height": 283
        },
        "id": "3O4QQ8klSPyT",
        "outputId": "ad58ea62-90a3-44b1-ebb3-79d195f6ff64"
      },
      "execution_count": 5,
      "outputs": [
        {
          "output_type": "execute_result",
          "data": {
            "text/plain": [
              "<matplotlib.axes._subplots.AxesSubplot at 0x7f2439ebd0d0>"
            ]
          },
          "metadata": {},
          "execution_count": 5
        },
        {
          "output_type": "display_data",
          "data": {
            "text/plain": [
              "<Figure size 432x288 with 1 Axes>"
            ],
            "image/png": "[encoded data removed]"
          },
          "metadata": {
            "needs_background": "light"
          }
        }
      ]
    },
    {
      "cell_type": "code",
      "source": [
        "print(unemp.unique(), \"\\n\")\n",
        "\n",
        "print(unemp.loc[2013])\n",
        "print(unemp.loc[[1995, 2005, 2015]])"
      ],
      "metadata": {
        "colab": {
          "base_uri": "https://localhost:8080/"
        },
        "id": "vKM9B2VgSnn_",
        "outputId": "117f9421-1fb0-4d3c-cbbc-4ec9e7c2fd1e"
      },
      "execution_count": 6,
      "outputs": [
        {
          "output_type": "stream",
          "name": "stdout",
          "text": [
            "[5.6 5.3 4.3 4.2 5.8 4.6 7.8 9.1 8.  5.7] \n",
            "\n",
            "8.0\n",
            "1995    5.6\n",
            "2005    5.3\n",
            "2015    5.7\n",
            "Name: Unemployment, dtype: float64\n"
          ]
        }
      ]
    },
    {
      "cell_type": "markdown",
      "source": [
        "# Data Frame"
      ],
      "metadata": {
        "id": "g0KstfntTnix"
      }
    },
    {
      "cell_type": "markdown",
      "source": [
        "* Data frame is the way pandas store one or more columns of data.\n",
        "* Data frame is like a multiple series stacked side by side as columns."
      ],
      "metadata": {
        "id": "rfwYQK1DRFjC"
      }
    },
    {
      "cell_type": "code",
      "source": [
        "data = {\n",
        "    \"NorthEast\": [5.9,  5.6,  4.4,  3.8,  5.8,  4.9,  4.3,  7.1,  8.3,  7.9,  5.7],\n",
        "    \"MidWest\": [4.5,  4.3,  3.6,  4. ,  5.7,  5.7,  4.9,  8.1,  8.7,  7.4,  5.1],\n",
        "    \"South\": [5.3,  5.2,  4.2,  4. ,  5.7,  5.2,  4.3,  7.6,  9.1,  7.4,  5.5],\n",
        "    \"West\": [6.6, 6., 5.2, 4.6, 6.5, 5.5, 4.5, 8.6, 10.7, 8.5, 6.1],\n",
        "    \"National\": [5.6, 5.3, 4.3, 4.2, 5.8, 5.3, 4.6, 7.8, 9.1, 8., 5.7]\n",
        "}\n",
        "\n",
        "\n",
        "unemp_region = pd.DataFrame(data, index=years)\n",
        "print(unemp_region)"
      ],
      "metadata": {
        "id": "UoxbtVMlTr7R",
        "colab": {
          "base_uri": "https://localhost:8080/"
        },
        "outputId": "747a53af-1039-491d-947d-cb45832564c4"
      },
      "execution_count": 7,
      "outputs": [
        {
          "output_type": "stream",
          "name": "stdout",
          "text": [
            "      NorthEast  MidWest  South  West  National\n",
            "1995        5.9      4.5    5.3   6.6       5.6\n",
            "1997        5.6      4.3    5.2   6.0       5.3\n",
            "1999        4.4      3.6    4.2   5.2       4.3\n",
            "2001        3.8      4.0    4.0   4.6       4.2\n",
            "2003        5.8      5.7    5.7   6.5       5.8\n",
            "2005        4.9      5.7    5.2   5.5       5.3\n",
            "2007        4.3      4.9    4.3   4.5       4.6\n",
            "2009        7.1      8.1    7.6   8.6       7.8\n",
            "2011        8.3      8.7    9.1  10.7       9.1\n",
            "2013        7.9      7.4    7.4   8.5       8.0\n",
            "2015        5.7      5.1    5.5   6.1       5.7\n"
          ]
        }
      ]
    },
    {
      "cell_type": "code",
      "source": [
        "print(unemp_region.index,\"\\n\")\n",
        "print(unemp_region.values)"
      ],
      "metadata": {
        "colab": {
          "base_uri": "https://localhost:8080/"
        },
        "id": "dCQGKUURW1e8",
        "outputId": "202831da-875a-4bff-c048-aae67627167b"
      },
      "execution_count": 8,
      "outputs": [
        {
          "output_type": "stream",
          "name": "stdout",
          "text": [
            "Int64Index([1995, 1997, 1999, 2001, 2003, 2005, 2007, 2009, 2011, 2013, 2015], dtype='int64') \n",
            "\n",
            "[[ 5.9  4.5  5.3  6.6  5.6]\n",
            " [ 5.6  4.3  5.2  6.   5.3]\n",
            " [ 4.4  3.6  4.2  5.2  4.3]\n",
            " [ 3.8  4.   4.   4.6  4.2]\n",
            " [ 5.8  5.7  5.7  6.5  5.8]\n",
            " [ 4.9  5.7  5.2  5.5  5.3]\n",
            " [ 4.3  4.9  4.3  4.5  4.6]\n",
            " [ 7.1  8.1  7.6  8.6  7.8]\n",
            " [ 8.3  8.7  9.1 10.7  9.1]\n",
            " [ 7.9  7.4  7.4  8.5  8. ]\n",
            " [ 5.7  5.1  5.5  6.1  5.7]]\n"
          ]
        }
      ]
    },
    {
      "cell_type": "code",
      "source": [
        "print(unemp_region.head(4)) \n",
        "# tail.()"
      ],
      "metadata": {
        "colab": {
          "base_uri": "https://localhost:8080/"
        },
        "id": "JDAKxaCagZzb",
        "outputId": "48950d23-7dd3-4e7b-c5f7-e33ee92f6256"
      },
      "execution_count": 9,
      "outputs": [
        {
          "output_type": "stream",
          "name": "stdout",
          "text": [
            "      NorthEast  MidWest  South  West  National\n",
            "1995        5.9      4.5    5.3   6.6       5.6\n",
            "1997        5.6      4.3    5.2   6.0       5.3\n",
            "1999        4.4      3.6    4.2   5.2       4.3\n",
            "2001        3.8      4.0    4.0   4.6       4.2\n"
          ]
        }
      ]
    },
    {
      "cell_type": "markdown",
      "source": [
        "PLOTTING..."
      ],
      "metadata": {
        "id": "trFwS7VIgn-I"
      }
    },
    {
      "cell_type": "code",
      "source": [
        "# Generate plot with .plot()\n",
        "unemp_region.plot()"
      ],
      "metadata": {
        "colab": {
          "base_uri": "https://localhost:8080/",
          "height": 286
        },
        "id": "KE_CMpVqgvz1",
        "outputId": "5abca566-2003-495d-9640-4a5a06db7977"
      },
      "execution_count": 10,
      "outputs": [
        {
          "output_type": "execute_result",
          "data": {
            "text/plain": [
              "<matplotlib.axes._subplots.AxesSubplot at 0x7f2439e018e0>"
            ]
          },
          "metadata": {},
          "execution_count": 10
        },
        {
          "output_type": "display_data",
          "data": {
            "text/plain": [
              "<Figure size 432x288 with 1 Axes>"
            ],
            "image/png": "[encoded data removed]"
          },
          "metadata": {
            "needs_background": "light"
          }
        }
      ]
    },
    {
      "cell_type": "markdown",
      "source": [
        "INDEXING..."
      ],
      "metadata": {
        "id": "Xl_ZbBqRhEad"
      }
    },
    {
      "cell_type": "code",
      "source": [
        "# Create indexing with .loc()\n",
        "print(unemp_region.loc[1995, \"MidWest\"])\n",
        "print(unemp_region.loc[2001, \"South\"])"
      ],
      "metadata": {
        "colab": {
          "base_uri": "https://localhost:8080/"
        },
        "id": "7A9Nsum-hG-d",
        "outputId": "fca3dd7f-73f7-4b5d-9e9c-7ba56402ada4"
      },
      "execution_count": 11,
      "outputs": [
        {
          "output_type": "stream",
          "name": "stdout",
          "text": [
            "4.5\n",
            "4.0\n"
          ]
        }
      ]
    },
    {
      "cell_type": "code",
      "source": [
        "print(unemp_region.loc[[1995, 2011], \"West\"],\"\\n\")\n",
        "print(unemp_region.loc[2001, [\"National\", \"NorthEast\"]],\"\\n\")\n",
        "print(unemp_region.loc[:, \"NorthEast\"])"
      ],
      "metadata": {
        "colab": {
          "base_uri": "https://localhost:8080/"
        },
        "id": "TdW3Z_lPh2a1",
        "outputId": "2c520f7b-a219-4879-d667-33464f8479eb"
      },
      "execution_count": 12,
      "outputs": [
        {
          "output_type": "stream",
          "name": "stdout",
          "text": [
            "1995     6.6\n",
            "2011    10.7\n",
            "Name: West, dtype: float64 \n",
            "\n",
            "National     4.2\n",
            "NorthEast    3.8\n",
            "Name: 2001, dtype: float64 \n",
            "\n",
            "1995    5.9\n",
            "1997    5.6\n",
            "1999    4.4\n",
            "2001    3.8\n",
            "2003    5.8\n",
            "2005    4.9\n",
            "2007    4.3\n",
            "2009    7.1\n",
            "2011    8.3\n",
            "2013    7.9\n",
            "2015    5.7\n",
            "Name: NorthEast, dtype: float64\n"
          ]
        }
      ]
    },
    {
      "cell_type": "code",
      "source": [
        "print(unemp_region[ \"NorthEast\"])"
      ],
      "metadata": {
        "colab": {
          "base_uri": "https://localhost:8080/"
        },
        "id": "4Vny5vlfjalI",
        "outputId": "49c17165-a68a-4a87-a526-8dd2288c2b48"
      },
      "execution_count": 13,
      "outputs": [
        {
          "output_type": "stream",
          "name": "stdout",
          "text": [
            "1995    5.9\n",
            "1997    5.6\n",
            "1999    4.4\n",
            "2001    3.8\n",
            "2003    5.8\n",
            "2005    4.9\n",
            "2007    4.3\n",
            "2009    7.1\n",
            "2011    8.3\n",
            "2013    7.9\n",
            "2015    5.7\n",
            "Name: NorthEast, dtype: float64\n"
          ]
        }
      ]
    },
    {
      "cell_type": "markdown",
      "source": [
        "# COMPUTATIONS WITH COLUMNS\n",
        "\n"
      ],
      "metadata": {
        "id": "ZbvmvZFgj0m9"
      }
    },
    {
      "cell_type": "code",
      "source": [
        "print(unemp_region[\"NorthEast\"] / 10) "
      ],
      "metadata": {
        "colab": {
          "base_uri": "https://localhost:8080/"
        },
        "id": "4LCPl3ZPj7oR",
        "outputId": "12048eaa-f9f7-48a0-b61f-b725ec8ff45c"
      },
      "execution_count": 14,
      "outputs": [
        {
          "output_type": "stream",
          "name": "stdout",
          "text": [
            "1995    0.59\n",
            "1997    0.56\n",
            "1999    0.44\n",
            "2001    0.38\n",
            "2003    0.58\n",
            "2005    0.49\n",
            "2007    0.43\n",
            "2009    0.71\n",
            "2011    0.83\n",
            "2013    0.79\n",
            "2015    0.57\n",
            "Name: NorthEast, dtype: float64\n"
          ]
        }
      ]
    },
    {
      "cell_type": "code",
      "source": [
        "print(unemp_region[\"NorthEast\"]. max(),\"\\n\") \n",
        "print(unemp_region[\"NorthEast\"]. min(),\"\\n\") "
      ],
      "metadata": {
        "colab": {
          "base_uri": "https://localhost:8080/"
        },
        "id": "9dHZJb3Hkfb_",
        "outputId": "2ccd985c-4f01-43c1-d79c-fe3d8e71b29e"
      },
      "execution_count": 15,
      "outputs": [
        {
          "output_type": "stream",
          "name": "stdout",
          "text": [
            "8.3 \n",
            "\n",
            "3.8 \n",
            "\n"
          ]
        }
      ]
    },
    {
      "cell_type": "code",
      "source": [
        "print(\"NorthEast - South => \\n\",unemp_region[\"NorthEast\"] - unemp_region[\"South\"], \"\\n\")"
      ],
      "metadata": {
        "colab": {
          "base_uri": "https://localhost:8080/"
        },
        "id": "RV9m4ek5kkHJ",
        "outputId": "ebe7df58-ae0f-481b-dd54-9d2add7e5f50"
      },
      "execution_count": 16,
      "outputs": [
        {
          "output_type": "stream",
          "name": "stdout",
          "text": [
            "NorthEast - South => \n",
            " 1995    0.6\n",
            "1997    0.4\n",
            "1999    0.2\n",
            "2001   -0.2\n",
            "2003    0.1\n",
            "2005   -0.3\n",
            "2007    0.0\n",
            "2009   -0.5\n",
            "2011   -0.8\n",
            "2013    0.5\n",
            "2015    0.2\n",
            "dtype: float64 \n",
            "\n"
          ]
        }
      ]
    },
    {
      "cell_type": "code",
      "source": [
        "print(unemp_region.West.corr(unemp_region[\"South\"]))\n",
        "print()\n",
        "print(unemp_region.corr())"
      ],
      "metadata": {
        "colab": {
          "base_uri": "https://localhost:8080/"
        },
        "id": "Q8WtAF_m-bnC",
        "outputId": "4774cf36-eb44-4991-a540-65890a0dc019"
      },
      "execution_count": 17,
      "outputs": [
        {
          "output_type": "stream",
          "name": "stdout",
          "text": [
            "0.9872585093917872\n",
            "\n",
            "           NorthEast   MidWest     South      West  National\n",
            "NorthEast   1.000000  0.875654  0.964415  0.967875  0.976016\n",
            "MidWest     0.875654  1.000000  0.951379  0.900638  0.952389\n",
            "South       0.964415  0.951379  1.000000  0.987259  0.995030\n",
            "West        0.967875  0.900638  0.987259  1.000000  0.981308\n",
            "National    0.976016  0.952389  0.995030  0.981308  1.000000\n"
          ]
        }
      ]
    },
    {
      "cell_type": "markdown",
      "source": [
        "# DATA TYPES"
      ],
      "metadata": {
        "id": "Jysm0aFi_AMU"
      }
    },
    {
      "cell_type": "code",
      "source": [
        "print(unemp.dtype)\n",
        "print(\"\\n\", unemp_region.dtypes)"
      ],
      "metadata": {
        "colab": {
          "base_uri": "https://localhost:8080/"
        },
        "id": "0Ysi2EMR_DnW",
        "outputId": "59621921-5fcf-4d36-e329-909e4b5bc5b9"
      },
      "execution_count": 18,
      "outputs": [
        {
          "output_type": "stream",
          "name": "stdout",
          "text": [
            "float64\n",
            "\n",
            " NorthEast    float64\n",
            "MidWest      float64\n",
            "South        float64\n",
            "West         float64\n",
            "National     float64\n",
            "dtype: object\n"
          ]
        }
      ]
    },
    {
      "cell_type": "code",
      "source": [
        "str_unemp = unemp_region.copy()\n",
        "str_unemp[\"South\"] = str_unemp[\"South\"].astype(str)\n",
        "str_unemp.dtypes\n"
      ],
      "metadata": {
        "colab": {
          "base_uri": "https://localhost:8080/"
        },
        "id": "zIowxGj3AI8W",
        "outputId": "bbc4257a-cb41-4719-d0ce-536148ee86a7"
      },
      "execution_count": 19,
      "outputs": [
        {
          "output_type": "execute_result",
          "data": {
            "text/plain": [
              "NorthEast    float64\n",
              "MidWest      float64\n",
              "South         object\n",
              "West         float64\n",
              "National     float64\n",
              "dtype: object"
            ]
          },
          "metadata": {},
          "execution_count": 19
        }
      ]
    },
    {
      "cell_type": "code",
      "source": [
        "str_unemp.head()"
      ],
      "metadata": {
        "colab": {
          "base_uri": "https://localhost:8080/",
          "height": 206
        },
        "id": "7z_MPAiOAt7C",
        "outputId": "6a372b99-3e4b-4cbb-8b5f-71797de9556c"
      },
      "execution_count": 20,
      "outputs": [
        {
          "output_type": "execute_result",
          "data": {
            "text/plain": [
              "      NorthEast  MidWest South  West  National\n",
              "1995        5.9      4.5   5.3   6.6       5.6\n",
              "1997        5.6      4.3   5.2   6.0       5.3\n",
              "1999        4.4      3.6   4.2   5.2       4.3\n",
              "2001        3.8      4.0   4.0   4.6       4.2\n",
              "2003        5.8      5.7   5.7   6.5       5.8"
            ],
            "text/html": [
              "\n",
              "  <div id=\"df-42e11971-12ee-4a92-b4bd-ecaf8d1ddde8\">\n",
              "    <div class=\"colab-df-container\">\n",
              "      <div>\n",
              "<style scoped>\n",
              "    .dataframe tbody tr th:only-of-type {\n",
              "        vertical-align: middle;\n",
              "    }\n",
              "\n",
              "    .dataframe tbody tr th {\n",
              "        vertical-align: top;\n",
              "    }\n",
              "\n",
              "    .dataframe thead th {\n",
              "        text-align: right;\n",
              "    }\n",
              "</style>\n",
              "<table border=\"1\" class=\"dataframe\">\n",
              "  <thead>\n",
              "    <tr style=\"text-align: right;\">\n",
              "      <th></th>\n",
              "      <th>NorthEast</th>\n",
              "      <th>MidWest</th>\n",
              "      <th>South</th>\n",
              "      <th>West</th>\n",
              "      <th>National</th>\n",
              "    </tr>\n",
              "  </thead>\n",
              "  <tbody>\n",
              "    <tr>\n",
              "      <th>1995</th>\n",
              "      <td>5.9</td>\n",
              "      <td>4.5</td>\n",
              "      <td>5.3</td>\n",
              "      <td>6.6</td>\n",
              "      <td>5.6</td>\n",
              "    </tr>\n",
              "    <tr>\n",
              "      <th>1997</th>\n",
              "      <td>5.6</td>\n",
              "      <td>4.3</td>\n",
              "      <td>5.2</td>\n",
              "      <td>6.0</td>\n",
              "      <td>5.3</td>\n",
              "    </tr>\n",
              "    <tr>\n",
              "      <th>1999</th>\n",
              "      <td>4.4</td>\n",
              "      <td>3.6</td>\n",
              "      <td>4.2</td>\n",
              "      <td>5.2</td>\n",
              "      <td>4.3</td>\n",
              "    </tr>\n",
              "    <tr>\n",
              "      <th>2001</th>\n",
              "      <td>3.8</td>\n",
              "      <td>4.0</td>\n",
              "      <td>4.0</td>\n",
              "      <td>4.6</td>\n",
              "      <td>4.2</td>\n",
              "    </tr>\n",
              "    <tr>\n",
              "      <th>2003</th>\n",
              "      <td>5.8</td>\n",
              "      <td>5.7</td>\n",
              "      <td>5.7</td>\n",
              "      <td>6.5</td>\n",
              "      <td>5.8</td>\n",
              "    </tr>\n",
              "  </tbody>\n",
              "</table>\n",
              "</div>\n",
              "      <button class=\"colab-df-convert\" onclick=\"convertToInteractive('df-42e11971-12ee-4a92-b4bd-ecaf8d1ddde8')\"\n",
              "              title=\"Convert this dataframe to an interactive table.\"\n",
              "              style=\"display:none;\">\n",
              "        \n",
              "  <svg xmlns=\"http://www.w3.org/2000/svg\" height=\"24px\"viewBox=\"0 0 24 24\"\n",
              "       width=\"24px\">\n",
              "    <path d=\"M0 0h24v24H0V0z\" fill=\"none\"/>\n",
              "    <path d=\"M18.56 5.44l.94 2.06.94-2.06 2.06-.94-2.06-.94-.94-2.06-.94 2.06-2.06.94zm-11 1L8.5 8.5l.94-2.06 2.06-.94-2.06-.94L8.5 2.5l-.94 2.06-2.06.94zm10 10l.94 2.06.94-2.06 2.06-.94-2.06-.94-.94-2.06-.94 2.06-2.06.94z\"/><path d=\"M17.41 7.96l-1.37-1.37c-.4-.4-.92-.59-1.43-.59-.52 0-1.04.2-1.43.59L10.3 9.45l-7.72 7.72c-.78.78-.78 2.05 0 2.83L4 21.41c.39.39.9.59 1.41.59.51 0 1.02-.2 1.41-.59l7.78-7.78 2.81-2.81c.8-.78.8-2.07 0-2.86zM5.41 20L4 18.59l7.72-7.72 1.47 1.35L5.41 20z\"/>\n",
              "  </svg>\n",
              "      </button>\n",
              "      \n",
              "  <style>\n",
              "    .colab-df-container {\n",
              "      display:flex;\n",
              "      flex-wrap:wrap;\n",
              "      gap: 12px;\n",
              "    }\n",
              "\n",
              "    .colab-df-convert {\n",
              "      background-color: #E8F0FE;\n",
              "      border: none;\n",
              "      border-radius: 50%;\n",
              "      cursor: pointer;\n",
              "      display: none;\n",
              "      fill: #1967D2;\n",
              "      height: 32px;\n",
              "      padding: 0 0 0 0;\n",
              "      width: 32px;\n",
              "    }\n",
              "\n",
              "    .colab-df-convert:hover {\n",
              "      background-color: #E2EBFA;\n",
              "      box-shadow: 0px 1px 2px rgba(60, 64, 67, 0.3), 0px 1px 3px 1px rgba(60, 64, 67, 0.15);\n",
              "      fill: #174EA6;\n",
              "    }\n",
              "\n",
              "    [theme=dark] .colab-df-convert {\n",
              "      background-color: #3B4455;\n",
              "      fill: #D2E3FC;\n",
              "    }\n",
              "\n",
              "    [theme=dark] .colab-df-convert:hover {\n",
              "      background-color: #434B5C;\n",
              "      box-shadow: 0px 1px 3px 1px rgba(0, 0, 0, 0.15);\n",
              "      filter: drop-shadow(0px 1px 2px rgba(0, 0, 0, 0.3));\n",
              "      fill: #FFFFFF;\n",
              "    }\n",
              "  </style>\n",
              "\n",
              "      <script>\n",
              "        const buttonEl =\n",
              "          document.querySelector('#df-42e11971-12ee-4a92-b4bd-ecaf8d1ddde8 button.colab-df-convert');\n",
              "        buttonEl.style.display =\n",
              "          google.colab.kernel.accessAllowed ? 'block' : 'none';\n",
              "\n",
              "        async function convertToInteractive(key) {\n",
              "          const element = document.querySelector('#df-42e11971-12ee-4a92-b4bd-ecaf8d1ddde8');\n",
              "          const dataTable =\n",
              "            await google.colab.kernel.invokeFunction('convertToInteractive',\n",
              "                                                     [key], {});\n",
              "          if (!dataTable) return;\n",
              "\n",
              "          const docLinkHtml = 'Like what you see? Visit the ' +\n",
              "            '<a target=\"_blank\" href=https://colab.research.google.com/notebooks/data_table.ipynb>data table notebook</a>'\n",
              "            + ' to learn more about interactive tables.';\n",
              "          element.innerHTML = '';\n",
              "          dataTable['output_type'] = 'display_data';\n",
              "          await google.colab.output.renderOutput(dataTable, element);\n",
              "          const docLink = document.createElement('div');\n",
              "          docLink.innerHTML = docLinkHtml;\n",
              "          element.appendChild(docLink);\n",
              "        }\n",
              "      </script>\n",
              "    </div>\n",
              "  </div>\n",
              "  "
            ]
          },
          "metadata": {},
          "execution_count": 20
        }
      ]
    },
    {
      "cell_type": "code",
      "source": [
        "str_unemp.sum()"
      ],
      "metadata": {
        "colab": {
          "base_uri": "https://localhost:8080/"
        },
        "id": "ryXCTYCHA4sF",
        "outputId": "a89231ae-9c9f-4f70-bdc7-8f39815df07e"
      },
      "execution_count": 21,
      "outputs": [
        {
          "output_type": "execute_result",
          "data": {
            "text/plain": [
              "NorthEast                                 63.7\n",
              "MidWest                                   62.0\n",
              "South        5.35.24.24.05.75.24.37.69.17.45.5\n",
              "West                                      72.8\n",
              "National                                  65.7\n",
              "dtype: object"
            ]
          },
          "metadata": {},
          "execution_count": 21
        }
      ]
    },
    {
      "cell_type": "markdown",
      "source": [
        "Changing data frames"
      ],
      "metadata": {
        "id": "WpJmMcI_OmKD"
      }
    },
    {
      "cell_type": "code",
      "source": [
        "# creating new columns\n",
        "\n",
        "unemp_region[\"UnweightedMean\"] = (unemp_region[\"NorthEast\"] + unemp_region[\"MidWest\"] + unemp_region[\"South\"] + unemp_region[\"West\"]) / 4\n",
        "\n",
        "print(unemp_region)"
      ],
      "metadata": {
        "colab": {
          "base_uri": "https://localhost:8080/"
        },
        "id": "cWWGqH7CClwf",
        "outputId": "31d8936b-20b4-4f1f-a9bf-bb0872475bff"
      },
      "execution_count": 24,
      "outputs": [
        {
          "output_type": "stream",
          "name": "stdout",
          "text": [
            "      NorthEast  MidWest  South  West  National  UnweightedMean\n",
            "1995        5.9      4.5    5.3   6.6       5.6           5.575\n",
            "1997        5.6      4.3    5.2   6.0       5.3           5.275\n",
            "1999        4.4      3.6    4.2   5.2       4.3           4.350\n",
            "2001        3.8      4.0    4.0   4.6       4.2           4.100\n",
            "2003        5.8      5.7    5.7   6.5       5.8           5.925\n",
            "2005        4.9      5.7    5.2   5.5       5.3           5.325\n",
            "2007        4.3      4.9    4.3   4.5       4.6           4.500\n",
            "2009        7.1      8.1    7.6   8.6       7.8           7.850\n",
            "2011        8.3      8.7    9.1  10.7       9.1           9.200\n",
            "2013        7.9      7.4    7.4   8.5       8.0           7.800\n",
            "2015        5.7      5.1    5.5   6.1       5.7           5.600\n"
          ]
        }
      ]
    },
    {
      "cell_type": "code",
      "source": [
        "# changing values\n",
        "# df.loc[index, column] = value\n",
        "\n",
        "unemp_region.loc[1995, \"UnweightedMean\" ] = 0.0\n",
        "\n",
        "unemp_region.head()"
      ],
      "metadata": {
        "colab": {
          "base_uri": "https://localhost:8080/",
          "height": 206
        },
        "id": "yZZ6Z8VsQBor",
        "outputId": "34359327-77d9-45c2-f7e3-81da44342e50"
      },
      "execution_count": 26,
      "outputs": [
        {
          "output_type": "execute_result",
          "data": {
            "text/plain": [
              "      NorthEast  MidWest  South  West  National  UnweightedMean\n",
              "1995        5.9      4.5    5.3   6.6       5.6           0.000\n",
              "1997        5.6      4.3    5.2   6.0       5.3           5.275\n",
              "1999        4.4      3.6    4.2   5.2       4.3           4.350\n",
              "2001        3.8      4.0    4.0   4.6       4.2           4.100\n",
              "2003        5.8      5.7    5.7   6.5       5.8           5.925"
            ],
            "text/html": [
              "\n",
              "  <div id=\"df-2090f9e9-fcb2-46a7-a628-9ee659605b26\">\n",
              "    <div class=\"colab-df-container\">\n",
              "      <div>\n",
              "<style scoped>\n",
              "    .dataframe tbody tr th:only-of-type {\n",
              "        vertical-align: middle;\n",
              "    }\n",
              "\n",
              "    .dataframe tbody tr th {\n",
              "        vertical-align: top;\n",
              "    }\n",
              "\n",
              "    .dataframe thead th {\n",
              "        text-align: right;\n",
              "    }\n",
              "</style>\n",
              "<table border=\"1\" class=\"dataframe\">\n",
              "  <thead>\n",
              "    <tr style=\"text-align: right;\">\n",
              "      <th></th>\n",
              "      <th>NorthEast</th>\n",
              "      <th>MidWest</th>\n",
              "      <th>South</th>\n",
              "      <th>West</th>\n",
              "      <th>National</th>\n",
              "      <th>UnweightedMean</th>\n",
              "    </tr>\n",
              "  </thead>\n",
              "  <tbody>\n",
              "    <tr>\n",
              "      <th>1995</th>\n",
              "      <td>5.9</td>\n",
              "      <td>4.5</td>\n",
              "      <td>5.3</td>\n",
              "      <td>6.6</td>\n",
              "      <td>5.6</td>\n",
              "      <td>0.000</td>\n",
              "    </tr>\n",
              "    <tr>\n",
              "      <th>1997</th>\n",
              "      <td>5.6</td>\n",
              "      <td>4.3</td>\n",
              "      <td>5.2</td>\n",
              "      <td>6.0</td>\n",
              "      <td>5.3</td>\n",
              "      <td>5.275</td>\n",
              "    </tr>\n",
              "    <tr>\n",
              "      <th>1999</th>\n",
              "      <td>4.4</td>\n",
              "      <td>3.6</td>\n",
              "      <td>4.2</td>\n",
              "      <td>5.2</td>\n",
              "      <td>4.3</td>\n",
              "      <td>4.350</td>\n",
              "    </tr>\n",
              "    <tr>\n",
              "      <th>2001</th>\n",
              "      <td>3.8</td>\n",
              "      <td>4.0</td>\n",
              "      <td>4.0</td>\n",
              "      <td>4.6</td>\n",
              "      <td>4.2</td>\n",
              "      <td>4.100</td>\n",
              "    </tr>\n",
              "    <tr>\n",
              "      <th>2003</th>\n",
              "      <td>5.8</td>\n",
              "      <td>5.7</td>\n",
              "      <td>5.7</td>\n",
              "      <td>6.5</td>\n",
              "      <td>5.8</td>\n",
              "      <td>5.925</td>\n",
              "    </tr>\n",
              "  </tbody>\n",
              "</table>\n",
              "</div>\n",
              "      <button class=\"colab-df-convert\" onclick=\"convertToInteractive('df-2090f9e9-fcb2-46a7-a628-9ee659605b26')\"\n",
              "              title=\"Convert this dataframe to an interactive table.\"\n",
              "              style=\"display:none;\">\n",
              "        \n",
              "  <svg xmlns=\"http://www.w3.org/2000/svg\" height=\"24px\"viewBox=\"0 0 24 24\"\n",
              "       width=\"24px\">\n",
              "    <path d=\"M0 0h24v24H0V0z\" fill=\"none\"/>\n",
              "    <path d=\"M18.56 5.44l.94 2.06.94-2.06 2.06-.94-2.06-.94-.94-2.06-.94 2.06-2.06.94zm-11 1L8.5 8.5l.94-2.06 2.06-.94-2.06-.94L8.5 2.5l-.94 2.06-2.06.94zm10 10l.94 2.06.94-2.06 2.06-.94-2.06-.94-.94-2.06-.94 2.06-2.06.94z\"/><path d=\"M17.41 7.96l-1.37-1.37c-.4-.4-.92-.59-1.43-.59-.52 0-1.04.2-1.43.59L10.3 9.45l-7.72 7.72c-.78.78-.78 2.05 0 2.83L4 21.41c.39.39.9.59 1.41.59.51 0 1.02-.2 1.41-.59l7.78-7.78 2.81-2.81c.8-.78.8-2.07 0-2.86zM5.41 20L4 18.59l7.72-7.72 1.47 1.35L5.41 20z\"/>\n",
              "  </svg>\n",
              "      </button>\n",
              "      \n",
              "  <style>\n",
              "    .colab-df-container {\n",
              "      display:flex;\n",
              "      flex-wrap:wrap;\n",
              "      gap: 12px;\n",
              "    }\n",
              "\n",
              "    .colab-df-convert {\n",
              "      background-color: #E8F0FE;\n",
              "      border: none;\n",
              "      border-radius: 50%;\n",
              "      cursor: pointer;\n",
              "      display: none;\n",
              "      fill: #1967D2;\n",
              "      height: 32px;\n",
              "      padding: 0 0 0 0;\n",
              "      width: 32px;\n",
              "    }\n",
              "\n",
              "    .colab-df-convert:hover {\n",
              "      background-color: #E2EBFA;\n",
              "      box-shadow: 0px 1px 2px rgba(60, 64, 67, 0.3), 0px 1px 3px 1px rgba(60, 64, 67, 0.15);\n",
              "      fill: #174EA6;\n",
              "    }\n",
              "\n",
              "    [theme=dark] .colab-df-convert {\n",
              "      background-color: #3B4455;\n",
              "      fill: #D2E3FC;\n",
              "    }\n",
              "\n",
              "    [theme=dark] .colab-df-convert:hover {\n",
              "      background-color: #434B5C;\n",
              "      box-shadow: 0px 1px 3px 1px rgba(0, 0, 0, 0.15);\n",
              "      filter: drop-shadow(0px 1px 2px rgba(0, 0, 0, 0.3));\n",
              "      fill: #FFFFFF;\n",
              "    }\n",
              "  </style>\n",
              "\n",
              "      <script>\n",
              "        const buttonEl =\n",
              "          document.querySelector('#df-2090f9e9-fcb2-46a7-a628-9ee659605b26 button.colab-df-convert');\n",
              "        buttonEl.style.display =\n",
              "          google.colab.kernel.accessAllowed ? 'block' : 'none';\n",
              "\n",
              "        async function convertToInteractive(key) {\n",
              "          const element = document.querySelector('#df-2090f9e9-fcb2-46a7-a628-9ee659605b26');\n",
              "          const dataTable =\n",
              "            await google.colab.kernel.invokeFunction('convertToInteractive',\n",
              "                                                     [key], {});\n",
              "          if (!dataTable) return;\n",
              "\n",
              "          const docLinkHtml = 'Like what you see? Visit the ' +\n",
              "            '<a target=\"_blank\" href=https://colab.research.google.com/notebooks/data_table.ipynb>data table notebook</a>'\n",
              "            + ' to learn more about interactive tables.';\n",
              "          element.innerHTML = '';\n",
              "          dataTable['output_type'] = 'display_data';\n",
              "          await google.colab.output.renderOutput(dataTable, element);\n",
              "          const docLink = document.createElement('div');\n",
              "          docLink.innerHTML = docLinkHtml;\n",
              "          element.appendChild(docLink);\n",
              "        }\n",
              "      </script>\n",
              "    </div>\n",
              "  </div>\n",
              "  "
            ]
          },
          "metadata": {},
          "execution_count": 26
        }
      ]
    },
    {
      "cell_type": "code",
      "source": [
        "# renaming columns\n",
        "\n",
        "names = {\"NorthEast\": \"NE\",\n",
        "         \"MidWest\": \"MW\",\n",
        "         \"South\": \"S\",\n",
        "         \"West\": \"W\"\n",
        "         }\n",
        "unemp_region.rename(columns= names)"
      ],
      "metadata": {
        "colab": {
          "base_uri": "https://localhost:8080/",
          "height": 394
        },
        "id": "UmBqiT4-TJ0n",
        "outputId": "db8209cb-6dff-4c04-cc46-686aaa6d6ff0"
      },
      "execution_count": 27,
      "outputs": [
        {
          "output_type": "execute_result",
          "data": {
            "text/plain": [
              "       NE   MW    S     W  National  UnweightedMean\n",
              "1995  5.9  4.5  5.3   6.6       5.6           0.000\n",
              "1997  5.6  4.3  5.2   6.0       5.3           5.275\n",
              "1999  4.4  3.6  4.2   5.2       4.3           4.350\n",
              "2001  3.8  4.0  4.0   4.6       4.2           4.100\n",
              "2003  5.8  5.7  5.7   6.5       5.8           5.925\n",
              "2005  4.9  5.7  5.2   5.5       5.3           5.325\n",
              "2007  4.3  4.9  4.3   4.5       4.6           4.500\n",
              "2009  7.1  8.1  7.6   8.6       7.8           7.850\n",
              "2011  8.3  8.7  9.1  10.7       9.1           9.200\n",
              "2013  7.9  7.4  7.4   8.5       8.0           7.800\n",
              "2015  5.7  5.1  5.5   6.1       5.7           5.600"
            ],
            "text/html": [
              "\n",
              "  <div id=\"df-a5fd7239-2e3b-4c35-875e-7ff80807f03a\">\n",
              "    <div class=\"colab-df-container\">\n",
              "      <div>\n",
              "<style scoped>\n",
              "    .dataframe tbody tr th:only-of-type {\n",
              "        vertical-align: middle;\n",
              "    }\n",
              "\n",
              "    .dataframe tbody tr th {\n",
              "        vertical-align: top;\n",
              "    }\n",
              "\n",
              "    .dataframe thead th {\n",
              "        text-align: right;\n",
              "    }\n",
              "</style>\n",
              "<table border=\"1\" class=\"dataframe\">\n",
              "  <thead>\n",
              "    <tr style=\"text-align: right;\">\n",
              "      <th></th>\n",
              "      <th>NE</th>\n",
              "      <th>MW</th>\n",
              "      <th>S</th>\n",
              "      <th>W</th>\n",
              "      <th>National</th>\n",
              "      <th>UnweightedMean</th>\n",
              "    </tr>\n",
              "  </thead>\n",
              "  <tbody>\n",
              "    <tr>\n",
              "      <th>1995</th>\n",
              "      <td>5.9</td>\n",
              "      <td>4.5</td>\n",
              "      <td>5.3</td>\n",
              "      <td>6.6</td>\n",
              "      <td>5.6</td>\n",
              "      <td>0.000</td>\n",
              "    </tr>\n",
              "    <tr>\n",
              "      <th>1997</th>\n",
              "      <td>5.6</td>\n",
              "      <td>4.3</td>\n",
              "      <td>5.2</td>\n",
              "      <td>6.0</td>\n",
              "      <td>5.3</td>\n",
              "      <td>5.275</td>\n",
              "    </tr>\n",
              "    <tr>\n",
              "      <th>1999</th>\n",
              "      <td>4.4</td>\n",
              "      <td>3.6</td>\n",
              "      <td>4.2</td>\n",
              "      <td>5.2</td>\n",
              "      <td>4.3</td>\n",
              "      <td>4.350</td>\n",
              "    </tr>\n",
              "    <tr>\n",
              "      <th>2001</th>\n",
              "      <td>3.8</td>\n",
              "      <td>4.0</td>\n",
              "      <td>4.0</td>\n",
              "      <td>4.6</td>\n",
              "      <td>4.2</td>\n",
              "      <td>4.100</td>\n",
              "    </tr>\n",
              "    <tr>\n",
              "      <th>2003</th>\n",
              "      <td>5.8</td>\n",
              "      <td>5.7</td>\n",
              "      <td>5.7</td>\n",
              "      <td>6.5</td>\n",
              "      <td>5.8</td>\n",
              "      <td>5.925</td>\n",
              "    </tr>\n",
              "    <tr>\n",
              "      <th>2005</th>\n",
              "      <td>4.9</td>\n",
              "      <td>5.7</td>\n",
              "      <td>5.2</td>\n",
              "      <td>5.5</td>\n",
              "      <td>5.3</td>\n",
              "      <td>5.325</td>\n",
              "    </tr>\n",
              "    <tr>\n",
              "      <th>2007</th>\n",
              "      <td>4.3</td>\n",
              "      <td>4.9</td>\n",
              "      <td>4.3</td>\n",
              "      <td>4.5</td>\n",
              "      <td>4.6</td>\n",
              "      <td>4.500</td>\n",
              "    </tr>\n",
              "    <tr>\n",
              "      <th>2009</th>\n",
              "      <td>7.1</td>\n",
              "      <td>8.1</td>\n",
              "      <td>7.6</td>\n",
              "      <td>8.6</td>\n",
              "      <td>7.8</td>\n",
              "      <td>7.850</td>\n",
              "    </tr>\n",
              "    <tr>\n",
              "      <th>2011</th>\n",
              "      <td>8.3</td>\n",
              "      <td>8.7</td>\n",
              "      <td>9.1</td>\n",
              "      <td>10.7</td>\n",
              "      <td>9.1</td>\n",
              "      <td>9.200</td>\n",
              "    </tr>\n",
              "    <tr>\n",
              "      <th>2013</th>\n",
              "      <td>7.9</td>\n",
              "      <td>7.4</td>\n",
              "      <td>7.4</td>\n",
              "      <td>8.5</td>\n",
              "      <td>8.0</td>\n",
              "      <td>7.800</td>\n",
              "    </tr>\n",
              "    <tr>\n",
              "      <th>2015</th>\n",
              "      <td>5.7</td>\n",
              "      <td>5.1</td>\n",
              "      <td>5.5</td>\n",
              "      <td>6.1</td>\n",
              "      <td>5.7</td>\n",
              "      <td>5.600</td>\n",
              "    </tr>\n",
              "  </tbody>\n",
              "</table>\n",
              "</div>\n",
              "      <button class=\"colab-df-convert\" onclick=\"convertToInteractive('df-a5fd7239-2e3b-4c35-875e-7ff80807f03a')\"\n",
              "              title=\"Convert this dataframe to an interactive table.\"\n",
              "              style=\"display:none;\">\n",
              "        \n",
              "  <svg xmlns=\"http://www.w3.org/2000/svg\" height=\"24px\"viewBox=\"0 0 24 24\"\n",
              "       width=\"24px\">\n",
              "    <path d=\"M0 0h24v24H0V0z\" fill=\"none\"/>\n",
              "    <path d=\"M18.56 5.44l.94 2.06.94-2.06 2.06-.94-2.06-.94-.94-2.06-.94 2.06-2.06.94zm-11 1L8.5 8.5l.94-2.06 2.06-.94-2.06-.94L8.5 2.5l-.94 2.06-2.06.94zm10 10l.94 2.06.94-2.06 2.06-.94-2.06-.94-.94-2.06-.94 2.06-2.06.94z\"/><path d=\"M17.41 7.96l-1.37-1.37c-.4-.4-.92-.59-1.43-.59-.52 0-1.04.2-1.43.59L10.3 9.45l-7.72 7.72c-.78.78-.78 2.05 0 2.83L4 21.41c.39.39.9.59 1.41.59.51 0 1.02-.2 1.41-.59l7.78-7.78 2.81-2.81c.8-.78.8-2.07 0-2.86zM5.41 20L4 18.59l7.72-7.72 1.47 1.35L5.41 20z\"/>\n",
              "  </svg>\n",
              "      </button>\n",
              "      \n",
              "  <style>\n",
              "    .colab-df-container {\n",
              "      display:flex;\n",
              "      flex-wrap:wrap;\n",
              "      gap: 12px;\n",
              "    }\n",
              "\n",
              "    .colab-df-convert {\n",
              "      background-color: #E8F0FE;\n",
              "      border: none;\n",
              "      border-radius: 50%;\n",
              "      cursor: pointer;\n",
              "      display: none;\n",
              "      fill: #1967D2;\n",
              "      height: 32px;\n",
              "      padding: 0 0 0 0;\n",
              "      width: 32px;\n",
              "    }\n",
              "\n",
              "    .colab-df-convert:hover {\n",
              "      background-color: #E2EBFA;\n",
              "      box-shadow: 0px 1px 2px rgba(60, 64, 67, 0.3), 0px 1px 3px 1px rgba(60, 64, 67, 0.15);\n",
              "      fill: #174EA6;\n",
              "    }\n",
              "\n",
              "    [theme=dark] .colab-df-convert {\n",
              "      background-color: #3B4455;\n",
              "      fill: #D2E3FC;\n",
              "    }\n",
              "\n",
              "    [theme=dark] .colab-df-convert:hover {\n",
              "      background-color: #434B5C;\n",
              "      box-shadow: 0px 1px 3px 1px rgba(0, 0, 0, 0.15);\n",
              "      filter: drop-shadow(0px 1px 2px rgba(0, 0, 0, 0.3));\n",
              "      fill: #FFFFFF;\n",
              "    }\n",
              "  </style>\n",
              "\n",
              "      <script>\n",
              "        const buttonEl =\n",
              "          document.querySelector('#df-a5fd7239-2e3b-4c35-875e-7ff80807f03a button.colab-df-convert');\n",
              "        buttonEl.style.display =\n",
              "          google.colab.kernel.accessAllowed ? 'block' : 'none';\n",
              "\n",
              "        async function convertToInteractive(key) {\n",
              "          const element = document.querySelector('#df-a5fd7239-2e3b-4c35-875e-7ff80807f03a');\n",
              "          const dataTable =\n",
              "            await google.colab.kernel.invokeFunction('convertToInteractive',\n",
              "                                                     [key], {});\n",
              "          if (!dataTable) return;\n",
              "\n",
              "          const docLinkHtml = 'Like what you see? Visit the ' +\n",
              "            '<a target=\"_blank\" href=https://colab.research.google.com/notebooks/data_table.ipynb>data table notebook</a>'\n",
              "            + ' to learn more about interactive tables.';\n",
              "          element.innerHTML = '';\n",
              "          dataTable['output_type'] = 'display_data';\n",
              "          await google.colab.output.renderOutput(dataTable, element);\n",
              "          const docLink = document.createElement('div');\n",
              "          docLink.innerHTML = docLinkHtml;\n",
              "          element.appendChild(docLink);\n",
              "        }\n",
              "      </script>\n",
              "    </div>\n",
              "  </div>\n",
              "  "
            ]
          },
          "metadata": {},
          "execution_count": 27
        }
      ]
    },
    {
      "cell_type": "code",
      "source": [
        "print(unemp_region.head())"
      ],
      "metadata": {
        "colab": {
          "base_uri": "https://localhost:8080/"
        },
        "id": "gbSEmoc1UevS",
        "outputId": "69cde592-66a2-46be-9bbd-7e2f036a6d06"
      },
      "execution_count": 29,
      "outputs": [
        {
          "output_type": "stream",
          "name": "stdout",
          "text": [
            "      NorthEast  MidWest  South  West  National  UnweightedMean\n",
            "1995        5.9      4.5    5.3   6.6       5.6           0.000\n",
            "1997        5.6      4.3    5.2   6.0       5.3           5.275\n",
            "1999        4.4      3.6    4.2   5.2       4.3           4.350\n",
            "2001        3.8      4.0    4.0   4.6       4.2           4.100\n",
            "2003        5.8      5.7    5.7   6.5       5.8           5.925\n"
          ]
        }
      ]
    },
    {
      "cell_type": "code",
      "source": [
        "# \n",
        "names_updated = {\"NorthEast\": \"NE\",\n",
        "         \"MidWest\": \"MW\",\n",
        "         \"South\": \"S\",\n",
        "         \"West\": \"W\"\n",
        "         }\n",
        "updated_column_names = unemp_region.rename(columns= names_updated)\n",
        "print(updated_column_names)"
      ],
      "metadata": {
        "colab": {
          "base_uri": "https://localhost:8080/"
        },
        "id": "91s4ZhYJWQnp",
        "outputId": "052ea1f4-6d4f-4c17-c720-ce86922c210d"
      },
      "execution_count": 30,
      "outputs": [
        {
          "output_type": "stream",
          "name": "stdout",
          "text": [
            "       NE   MW    S     W  National  UnweightedMean\n",
            "1995  5.9  4.5  5.3   6.6       5.6           0.000\n",
            "1997  5.6  4.3  5.2   6.0       5.3           5.275\n",
            "1999  4.4  3.6  4.2   5.2       4.3           4.350\n",
            "2001  3.8  4.0  4.0   4.6       4.2           4.100\n",
            "2003  5.8  5.7  5.7   6.5       5.8           5.925\n",
            "2005  4.9  5.7  5.2   5.5       5.3           5.325\n",
            "2007  4.3  4.9  4.3   4.5       4.6           4.500\n",
            "2009  7.1  8.1  7.6   8.6       7.8           7.850\n",
            "2011  8.3  8.7  9.1  10.7       9.1           9.200\n",
            "2013  7.9  7.4  7.4   8.5       8.0           7.800\n",
            "2015  5.7  5.1  5.5   6.1       5.7           5.600\n"
          ]
        }
      ]
    },
    {
      "cell_type": "code",
      "source": [
        "print(updated_column_names.head())"
      ],
      "metadata": {
        "colab": {
          "base_uri": "https://localhost:8080/"
        },
        "id": "YlRslHEnWqBy",
        "outputId": "a15277ac-9620-48a5-f07e-dac420499924"
      },
      "execution_count": 31,
      "outputs": [
        {
          "output_type": "stream",
          "name": "stdout",
          "text": [
            "       NE   MW    S    W  National  UnweightedMean\n",
            "1995  5.9  4.5  5.3  6.6       5.6           0.000\n",
            "1997  5.6  4.3  5.2  6.0       5.3           5.275\n",
            "1999  4.4  3.6  4.2  5.2       4.3           4.350\n",
            "2001  3.8  4.0  4.0  4.6       4.2           4.100\n",
            "2003  5.8  5.7  5.7  6.5       5.8           5.925\n"
          ]
        }
      ]
    }
  ]
}