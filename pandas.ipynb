{
  "nbformat": 4,
  "nbformat_minor": 0,
  "metadata": {
    "colab": {
      "provenance": [],
      "authorship_tag": "ABX9TyMiZCeyCQSVQPrUPetr87lg",
      "include_colab_link": true
    },
    "kernelspec": {
      "name": "python3",
      "display_name": "Python 3"
    },
    "language_info": {
      "name": "python"
    }
  },
  "cells": [
    {
      "cell_type": "markdown",
      "metadata": {
        "id": "view-in-github",
        "colab_type": "text"
      },
      "source": [
        "<a href=\"https://colab.research.google.com/github/uzair011/Advance-python/blob/main/pandas.ipynb\" target=\"_parent\"><img src=\"https://colab.research.google.com/assets/colab-badge.svg\" alt=\"Open In Colab\"/></a>"
      ]
    },
    {
      "cell_type": "code",
      "execution_count": 2,
      "metadata": {
        "id": "Dy68FpDIMBJh"
      },
      "outputs": [],
      "source": [
        "import pandas as pd\n",
        "%matplotlib inline"
      ]
    },
    {
      "cell_type": "markdown",
      "source": [
        "**SERIES**\n",
        "\n",
        "\n",
        "\n",
        "*   A series is a single column of data, with row labels for each observation.\n",
        "*   Pandas refers to the row labels as the indes of the series.\n",
        "\n"
      ],
      "metadata": {
        "id": "eBVLTC1YNEbE"
      }
    },
    {
      "cell_type": "code",
      "source": [
        "values = 5.6, 5.3, 4.3, 4.2, 5.8, 5.3, 4.6, 7.8, 9.1, 8., 5.7\n",
        "years = list(range(1995, 2017, 2))\n",
        "\n",
        "unemp = pd.Series(data = values, index = years, name = \"Unemployment\")\n",
        "\n",
        "print(unemp)"
      ],
      "metadata": {
        "colab": {
          "base_uri": "https://localhost:8080/"
        },
        "id": "Eb3eUd2LNHMZ",
        "outputId": "948bc735-41b6-413d-ffde-82f4fe02c7b5"
      },
      "execution_count": 3,
      "outputs": [
        {
          "output_type": "stream",
          "name": "stdout",
          "text": [
            "1995    5.6\n",
            "1997    5.3\n",
            "1999    4.3\n",
            "2001    4.2\n",
            "2003    5.8\n",
            "2005    5.3\n",
            "2007    4.6\n",
            "2009    7.8\n",
            "2011    9.1\n",
            "2013    8.0\n",
            "2015    5.7\n",
            "Name: Unemployment, dtype: float64\n"
          ]
        }
      ]
    },
    {
      "cell_type": "code",
      "source": [
        "print(unemp.index)\n",
        "print(unemp.values)"
      ],
      "metadata": {
        "colab": {
          "base_uri": "https://localhost:8080/"
        },
        "id": "cSHi0fO-OnzX",
        "outputId": "21cf80ec-6f74-406b-8f48-87fb617fbaaa"
      },
      "execution_count": 6,
      "outputs": [
        {
          "output_type": "stream",
          "name": "stdout",
          "text": [
            "Int64Index([1995, 1997, 1999, 2001, 2003, 2005, 2007, 2009, 2011, 2013, 2015], dtype='int64')\n",
            "[5.6 5.3 4.3 4.2 5.8 5.3 4.6 7.8 9.1 8.  5.7]\n"
          ]
        }
      ]
    },
    {
      "cell_type": "markdown",
      "source": [
        ".head and .tail"
      ],
      "metadata": {
        "id": "v9CMLQuYO8Yy"
      }
    },
    {
      "cell_type": "code",
      "source": [
        "print(unemp.head())\n",
        "print(\"\\n\", unemp.tail(3))"
      ],
      "metadata": {
        "colab": {
          "base_uri": "https://localhost:8080/"
        },
        "id": "nUp9RIbzO-bo",
        "outputId": "89bdbef2-b3e1-45ed-d179-d12271b88ed8"
      },
      "execution_count": 8,
      "outputs": [
        {
          "output_type": "stream",
          "name": "stdout",
          "text": [
            "1995    5.6\n",
            "1997    5.3\n",
            "1999    4.3\n",
            "2001    4.2\n",
            "2003    5.8\n",
            "Name: Unemployment, dtype: float64\n",
            "\n",
            " 2011    9.1\n",
            "2013    8.0\n",
            "2015    5.7\n",
            "Name: Unemployment, dtype: float64\n"
          ]
        }
      ]
    },
    {
      "cell_type": "markdown",
      "source": [
        "**PLOTTING**"
      ],
      "metadata": {
        "id": "l2PZv8qRSLuu"
      }
    },
    {
      "cell_type": "code",
      "source": [
        "unemp.plot()"
      ],
      "metadata": {
        "colab": {
          "base_uri": "https://localhost:8080/",
          "height": 283
        },
        "id": "3O4QQ8klSPyT",
        "outputId": "3b96440a-b271-4a77-d230-3d103eefba6e"
      },
      "execution_count": 9,
      "outputs": [
        {
          "output_type": "execute_result",
          "data": {
            "text/plain": [
              "<matplotlib.axes._subplots.AxesSubplot at 0x7f1329b91040>"
            ]
          },
          "metadata": {},
          "execution_count": 9
        },
        {
          "output_type": "display_data",
          "data": {
            "text/plain": [
              "<Figure size 432x288 with 1 Axes>"
            ],
            "image/png": "[encoded data removed]"
          },
          "metadata": {
            "needs_background": "light"
          }
        }
      ]
    },
    {
      "cell_type": "code",
      "source": [
        "print(unemp.unique(), \"\\n\")\n",
        "\n",
        "print(unemp.loc[2013])\n",
        "print(unemp.loc[[1995, 2005, 2015]])"
      ],
      "metadata": {
        "colab": {
          "base_uri": "https://localhost:8080/"
        },
        "id": "vKM9B2VgSnn_",
        "outputId": "a1bd087a-c7a7-4a7c-915f-994cacaa998b"
      },
      "execution_count": 15,
      "outputs": [
        {
          "output_type": "stream",
          "name": "stdout",
          "text": [
            "[5.6 5.3 4.3 4.2 5.8 4.6 7.8 9.1 8.  5.7] \n",
            "\n",
            "8.0\n",
            "1995    5.6\n",
            "2005    5.3\n",
            "2015    5.7\n",
            "Name: Unemployment, dtype: float64\n"
          ]
        }
      ]
    },
    {
      "cell_type": "markdown",
      "source": [
        "# Data Frame"
      ],
      "metadata": {
        "id": "g0KstfntTnix"
      }
    },
    {
      "cell_type": "code",
      "source": [],
      "metadata": {
        "id": "UoxbtVMlTr7R"
      },
      "execution_count": null,
      "outputs": []
    }
  ]
}