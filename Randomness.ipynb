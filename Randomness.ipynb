{
  "nbformat": 4,
  "nbformat_minor": 0,
  "metadata": {
    "colab": {
      "provenance": [],
      "authorship_tag": "ABX9TyOGeQnGEasPRPQ/aKGHT8Pe",
      "include_colab_link": true
    },
    "kernelspec": {
      "name": "python3",
      "display_name": "Python 3"
    },
    "language_info": {
      "name": "python"
    }
  },
  "cells": [
    {
      "cell_type": "markdown",
      "metadata": {
        "id": "view-in-github",
        "colab_type": "text"
      },
      "source": [
        "<a href=\"https://colab.research.google.com/github/uzair011/Advance-python/blob/main/Randomness.ipynb\" target=\"_parent\"><img src=\"https://colab.research.google.com/assets/colab-badge.svg\" alt=\"Open In Colab\"/></a>"
      ]
    },
    {
      "cell_type": "code",
      "execution_count": 1,
      "metadata": {
        "id": "fkfrRmZJJIZm"
      },
      "outputs": [],
      "source": [
        "import numpy as np\n",
        "import matplotlib.pyplot as plt\n",
        "%matplotlib inline"
      ]
    },
    {
      "cell_type": "markdown",
      "source": [
        "Randomness"
      ],
      "metadata": {
        "id": "vggbtYDDJham"
      }
    },
    {
      "cell_type": "code",
      "source": [
        "print(\"Random: \",np.random.rand(),\"\\n\")\n",
        "print(\"Random array with 29 elements \\n: \",np.random.rand(29),\"\\n\")\n",
        "print(\"Random array with 3**2: \\n\", np.random.rand(3, 3),\"\\n\")\n",
        "print(\"Random arrayt 3D with 3*4: \\n\", np.random.rand(2, 3,4),\"\\n\")"
      ],
      "metadata": {
        "colab": {
          "base_uri": "https://localhost:8080/"
        },
        "id": "URuug4CGJk3N",
        "outputId": "9b16d9e9-283e-45ae-d90e-66bf01f22728"
      },
      "execution_count": 13,
      "outputs": [
        {
          "output_type": "stream",
          "name": "stdout",
          "text": [
            "Random:  0.7647478056253284 \n",
            "\n",
            "Random array with 29 elements \n",
            ":  [0.54173911 0.72103844 0.00366166 0.69830314 0.63497194 0.11837163\n",
            " 0.82167824 0.52556664 0.55830043 0.04782664 0.05294919 0.54265632\n",
            " 0.49903081 0.57414182 0.70303053 0.23457767 0.10397636 0.39763647\n",
            " 0.36253122 0.34929752 0.21138737 0.77309638 0.87760948 0.40925039\n",
            " 0.11689312 0.09008369 0.5470283  0.29731551 0.56575606] \n",
            "\n",
            "Random array with 3**2: \n",
            " [[0.57798065 0.65446923 0.9746009 ]\n",
            " [0.57582426 0.64536569 0.10460316]\n",
            " [0.37753875 0.00427241 0.27040988]] \n",
            "\n",
            "Random arrayt 3D with 3*4: \n",
            " [[[0.01768037 0.04837604 0.68581727 0.21792782]\n",
            "  [0.55420974 0.68849121 0.68268545 0.68160209]\n",
            "  [0.95538292 0.98573488 0.28250174 0.67301272]]\n",
            "\n",
            " [[0.12786007 0.92085969 0.55511401 0.15890154]\n",
            "  [0.25751029 0.55317228 0.02166419 0.56400179]\n",
            "  [0.91202948 0.63838686 0.24526126 0.53593455]]] \n",
            "\n"
          ]
        }
      ]
    },
    {
      "cell_type": "code",
      "source": [
        "draws_10 = np.random.rand(10)\n",
        "draws_200 = np.random.rand(200) \n",
        "draws_10000 = np.random.rand(10_000)\n",
        "\n",
        "\n",
        "fig, ax = plt.subplots(3)\n",
        "\n",
        "ax[0].set_title(\"Histogram with 10 draws\")\n",
        "ax[0].hist(draws_10)\n",
        "\n",
        "ax[1].set_title(\"Histogram with 200 draws\")\n",
        "ax[1].hist(draws_200)\n",
        "\n",
        "ax[2].set_title(\"Histogram with 10000 draws\")\n",
        "ax[2].hist(draws_10000)\n",
        "\n",
        "fig.tight_layout()"
      ],
      "metadata": {
        "colab": {
          "base_uri": "https://localhost:8080/",
          "height": 297
        },
        "id": "bqP34KTlc8HL",
        "outputId": "0fe7ac34-0272-431a-cc42-b433f70462f8"
      },
      "execution_count": 20,
      "outputs": [
        {
          "output_type": "display_data",
          "data": {
            "text/plain": [
              "<Figure size 432x288 with 3 Axes>"
            ],
            "image/png": "[encoded data removed]"
          },
          "metadata": {
            "needs_background": "light"
          }
        }
      ]
    },
    {
      "cell_type": "markdown",
      "source": [
        "**DISCRETE DISTRIBUIONS**\n"
      ],
      "metadata": {
        "id": "CLZdt1YLeyr4"
      }
    },
    {
      "cell_type": "code",
      "source": [
        "### EXERCISE 01\n",
        "\n",
        "# mean => 1/2\n",
        "# variznce => 1/12\n",
        "# array => (0, 1)\n",
        "\n",
        "## \n",
        "\n",
        "wikipedia_ = np.random.rand(0, 1)\n",
        "\n",
        "print(wikipedia_) "
      ],
      "metadata": {
        "colab": {
          "base_uri": "https://localhost:8080/"
        },
        "id": "IeS8cAsMe7oY",
        "outputId": "bfb2c308-b48d-42ca-bcaf-bf250917817b"
      },
      "execution_count": 2,
      "outputs": [
        {
          "output_type": "stream",
          "name": "stdout",
          "text": [
            "[]\n"
          ]
        }
      ]
    }
  ]
}