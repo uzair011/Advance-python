{
  "nbformat": 4,
  "nbformat_minor": 0,
  "metadata": {
    "colab": {
      "provenance": [],
      "authorship_tag": "ABX9TyOAU5iGc8Ir5Rat8FF+nW6/",
      "include_colab_link": true
    },
    "kernelspec": {
      "name": "python3",
      "display_name": "Python 3"
    },
    "language_info": {
      "name": "python"
    }
  },
  "cells": [
    {
      "cell_type": "markdown",
      "metadata": {
        "id": "view-in-github",
        "colab_type": "text"
      },
      "source": [
        "<a href=\"https://colab.research.google.com/github/uzair011/Advance-python/blob/main/LinearAlgebra.ipynb\" target=\"_parent\"><img src=\"https://colab.research.google.com/assets/colab-badge.svg\" alt=\"Open In Colab\"/></a>"
      ]
    },
    {
      "cell_type": "markdown",
      "source": [
        "### VECTORS\n"
      ],
      "metadata": {
        "id": "GD0mqZw_lYqe"
      }
    },
    {
      "cell_type": "code",
      "execution_count": 1,
      "metadata": {
        "id": "A6AWxALydQqc"
      },
      "outputs": [],
      "source": [
        "import numpy as np\n",
        "import matplotlib.pyplot as plt\n"
      ]
    },
    {
      "cell_type": "code",
      "source": [
        "x = np.array([[1,2,3],[4,5,6], [7,8,9]])\n",
        "print(x)\n",
        "print(\"X transpose is : \\n\", x.transpose())"
      ],
      "metadata": {
        "colab": {
          "base_uri": "https://localhost:8080/"
        },
        "id": "bgJnxEVhnOWI",
        "outputId": "1935764d-a0c9-42e1-a890-bcc9418ccbe5"
      },
      "execution_count": 2,
      "outputs": [
        {
          "output_type": "stream",
          "name": "stdout",
          "text": [
            "[[1 2 3]\n",
            " [4 5 6]\n",
            " [7 8 9]]\n",
            "X transpose is : \n",
            " [[1 4 7]\n",
            " [2 5 8]\n",
            " [3 6 9]]\n"
          ]
        }
      ]
    },
    {
      "cell_type": "code",
      "source": [
        "print(x)"
      ],
      "metadata": {
        "colab": {
          "base_uri": "https://localhost:8080/"
        },
        "id": "leotIoAooAGv",
        "outputId": "5065d044-528c-475b-9bac-163dafcf1865"
      },
      "execution_count": null,
      "outputs": [
        {
          "output_type": "stream",
          "name": "stdout",
          "text": [
            "[[1 2 3]\n",
            " [4 5 6]\n",
            " [7 8 9]]\n"
          ]
        }
      ]
    },
    {
      "cell_type": "code",
      "source": [
        "print(\"Scalar addition\", 4 + x)\n",
        "print(\"Scalar subtraction\", 4 - x)\n",
        "print(\"Scalar multiplication\", 4 * x)\n",
        "print(\"Scalar division\", 4 / x)"
      ],
      "metadata": {
        "colab": {
          "base_uri": "https://localhost:8080/"
        },
        "id": "T85hYUzKjVzQ",
        "outputId": "eb1b36cb-cb5a-45e8-8bd0-25efad126838"
      },
      "execution_count": null,
      "outputs": [
        {
          "output_type": "stream",
          "name": "stdout",
          "text": [
            "Scalar addition [[ 5  6  7]\n",
            " [ 8  9 10]\n",
            " [11 12 13]]\n",
            "Scalar subtraction [[ 3  2  1]\n",
            " [ 0 -1 -2]\n",
            " [-3 -4 -5]]\n",
            "Scalar multiplication [[ 4  8 12]\n",
            " [16 20 24]\n",
            " [28 32 36]]\n",
            "Scalar division [[4.         2.         1.33333333]\n",
            " [1.         0.8        0.66666667]\n",
            " [0.57142857 0.5        0.44444444]]\n"
          ]
        }
      ]
    },
    {
      "cell_type": "markdown",
      "source": [
        "###Dot Product\n"
      ],
      "metadata": {
        "id": "2cBcApxoj3dZ"
      }
    },
    {
      "cell_type": "code",
      "source": [
        "x = np.array([1, 2, 3])\n",
        "y = np.array([4, 5, 6])\n",
        "\n",
        "print(\"Dot product\", np.dot(x,y))\n",
        "print(\"Dot product with @\", x @ y)"
      ],
      "metadata": {
        "colab": {
          "base_uri": "https://localhost:8080/"
        },
        "id": "Hm8V9cB4j6Wz",
        "outputId": "b8c48615-d1fd-4608-a8d5-607e85fc49e5"
      },
      "execution_count": null,
      "outputs": [
        {
          "output_type": "stream",
          "name": "stdout",
          "text": [
            "Dot product 32\n",
            "Dot product with @ 32\n"
          ]
        }
      ]
    },
    {
      "cell_type": "markdown",
      "source": [
        "###MATRICES\n"
      ],
      "metadata": {
        "id": "wdxR9OFflImb"
      }
    },
    {
      "cell_type": "code",
      "source": [
        "# In Numpy matrix is a 2D array\n",
        "x = np.array([[1, 2, 3], [4, 5, 6]])\n",
        "y = np.ones((2, 3))\n",
        "z = np.array([[1, 2], [3, 4], [5, 6]])\n",
        "\n",
        "print(\"x: \",x)\n",
        "print()\n",
        "print(\"y: \",y)\n",
        "print()\n",
        "print(\"z: \",z)"
      ],
      "metadata": {
        "colab": {
          "base_uri": "https://localhost:8080/"
        },
        "id": "1Ku5Y-0xlQ7i",
        "outputId": "33f8201e-b1a0-4389-de8e-88eafd910616"
      },
      "execution_count": 4,
      "outputs": [
        {
          "output_type": "stream",
          "name": "stdout",
          "text": [
            "x:  [[1 2 3]\n",
            " [4 5 6]]\n",
            "\n",
            "y:  [[1. 1. 1.]\n",
            " [1. 1. 1.]]\n",
            "\n",
            "z:  [[1 2]\n",
            " [3 4]\n",
            " [5 6]]\n"
          ]
        }
      ]
    },
    {
      "cell_type": "code",
      "source": [
        "### OPERATIONS\n",
        "\n",
        "print(\"Element wise addition \\n:\", x + y)\n",
        "print(\"Element wise subtraction \\n:\", x - y)\n",
        "print(\"Element wise multiplication \\n:\", x * y)\n",
        "print(\"Element wise divition \\n:\", x / y)"
      ],
      "metadata": {
        "colab": {
          "base_uri": "https://localhost:8080/"
        },
        "id": "sDAnwApOI7Rm",
        "outputId": "130a133a-2e44-48bc-e121-cfab673db644"
      },
      "execution_count": 5,
      "outputs": [
        {
          "output_type": "stream",
          "name": "stdout",
          "text": [
            "Element wise addition \n",
            ": [[2. 3. 4.]\n",
            " [5. 6. 7.]]\n",
            "Element wise subtraction \n",
            ": [[0. 1. 2.]\n",
            " [3. 4. 5.]]\n",
            "Element wise multiplication \n",
            ": [[1. 2. 3.]\n",
            " [4. 5. 6.]]\n",
            "Element wise divition \n",
            ": [[1. 2. 3.]\n",
            " [4. 5. 6.]]\n"
          ]
        }
      ]
    },
    {
      "cell_type": "code",
      "source": [
        "### OPERATIONS\n",
        "\n",
        "print(\"Scaler wise addition \\n:\", 5 + z)\n",
        "print(\"Scaler wise subtraction \\n:\", 5 - z)\n",
        "print(\"Scaler wise multiplication \\n:\", 5 * z)\n",
        "print(\"Scaler wise divition \\n:\", 5 / z)"
      ],
      "metadata": {
        "colab": {
          "base_uri": "https://localhost:8080/"
        },
        "id": "jklAvGoDJJr2",
        "outputId": "6287b9e5-a84e-4ffe-ffea-32f2c3a05277"
      },
      "execution_count": 5,
      "outputs": [
        {
          "output_type": "stream",
          "name": "stdout",
          "text": [
            "Scaler wise addition \n",
            ": [[ 6  7]\n",
            " [ 8  9]\n",
            " [10 11]]\n",
            "Scaler wise subtraction \n",
            ": [[ 4  3]\n",
            " [ 2  1]\n",
            " [ 0 -1]]\n",
            "Scaler wise multiplication \n",
            ": [[ 5 10]\n",
            " [15 20]\n",
            " [25 30]]\n",
            "Scaler wise divition \n",
            ": [[5.         2.5       ]\n",
            " [1.66666667 1.25      ]\n",
            " [1.         0.83333333]]\n"
          ]
        }
      ]
    },
    {
      "cell_type": "code",
      "source": [
        "x1 = np.reshape(np.arange(6), (3,2))\n",
        "x2 = np.array([[1, 2], [3, 4], [5, 6], [7, 8]])\n",
        "x3 = np.array([[2, 5, 2], [1, 2, 1]])\n",
        "x4 = np.ones((2, 3))\n",
        "\n",
        "y1 = np.array([1, 2, 3])\n",
        "y2 = np.array([0.5, 0.5])"
      ],
      "metadata": {
        "id": "QOHrW_8qMRx-"
      },
      "execution_count": 6,
      "outputs": []
    },
    {
      "cell_type": "code",
      "source": [
        "print(\"x1: \", x1)\n",
        "print(\"\")\n",
        "print(\"x4: \", x4)\n",
        "print(\"\")\n",
        "print(\"Using the matmul function for two matrices: \")\n",
        "print(np.matmul(x1, x4))\n",
        "print(\"------------ -------- -------------\")\n",
        "\n",
        "print(\"Using the dot function for two matrices: \")\n",
        "print(np.dot(x1, x4))\n",
        "\n",
        "print(\"Using @ for two matrices: \")\n",
        "print(x1 @ x4)"
      ],
      "metadata": {
        "colab": {
          "base_uri": "https://localhost:8080/"
        },
        "id": "EYJ2QQhNy3tb",
        "outputId": "06dc40e8-aa0a-4afb-e5e1-14c730baec39"
      },
      "execution_count": 12,
      "outputs": [
        {
          "output_type": "stream",
          "name": "stdout",
          "text": [
            "x1:  [[0 1]\n",
            " [2 3]\n",
            " [4 5]]\n",
            "\n",
            "x4:  [[1. 1. 1.]\n",
            " [1. 1. 1.]]\n",
            "\n",
            "Using the matmul function for two matrices: \n",
            "[[1. 1. 1.]\n",
            " [5. 5. 5.]\n",
            " [9. 9. 9.]]\n",
            "------------ -------- -------------\n",
            "Using the dot function for two matrices: \n",
            "[[1. 1. 1.]\n",
            " [5. 5. 5.]\n",
            " [9. 9. 9.]]\n",
            "Using @ for two matrices: \n",
            "[[1. 1. 1.]\n",
            " [5. 5. 5.]\n",
            " [9. 9. 9.]]\n"
          ]
        }
      ]
    },
    {
      "cell_type": "code",
      "source": [
        "print(\"Y1: \")\n",
        "print(y1)\n",
        "print(\"Using the matmul function for vec and mat: \")\n",
        "print(np.matmul(y1, x1))\n",
        "print(\"\\n Using the dot function for vec and mat: \")\n",
        "print(np.dot(y1, x1))\n",
        "print(\"\\n Using @ for vec and mat: \")\n",
        "print(y1 @ x1)"
      ],
      "metadata": {
        "colab": {
          "base_uri": "https://localhost:8080/"
        },
        "id": "V1esd9794L0w",
        "outputId": "9f521c3a-e45d-4685-8ce6-1e0fa390cb8d"
      },
      "execution_count": 15,
      "outputs": [
        {
          "output_type": "stream",
          "name": "stdout",
          "text": [
            "Y1: \n",
            "[1 2 3]\n",
            "Using the matmul function for vec and mat: \n",
            "[16 22]\n",
            "\n",
            " Using the dot function for vec and mat: \n",
            "[16 22]\n",
            "\n",
            " Using @ for vec and mat: \n",
            "[16 22]\n"
          ]
        }
      ]
    },
    {
      "cell_type": "markdown",
      "source": [
        "TRANSPOSE\n",
        " => Transpose is an operation that flips all elements of a matrix along the diagonal."
      ],
      "metadata": {
        "id": "XEboZQdGNbn4"
      }
    },
    {
      "cell_type": "code",
      "source": [
        "x = np.array([[1, 2, 3], [4, 5, 6], [7, 8, 9]])\n",
        "print(x)\n",
        "\n",
        "print(\"\\n x transpose is: \\n\", x.transpose())"
      ],
      "metadata": {
        "colab": {
          "base_uri": "https://localhost:8080/"
        },
        "id": "ql_0jFxTNh5C",
        "outputId": "33a2ac23-a3e5-4f14-d10c-9f218faac7cd"
      },
      "execution_count": 18,
      "outputs": [
        {
          "output_type": "stream",
          "name": "stdout",
          "text": [
            "[[1 2 3]\n",
            " [4 5 6]\n",
            " [7 8 9]]\n",
            "\n",
            " x transpose is: \n",
            " [[1 4 7]\n",
            " [2 5 8]\n",
            " [3 6 9]]\n"
          ]
        }
      ]
    },
    {
      "cell_type": "markdown",
      "source": [
        "IDENTITY MATRIX\n",
        "=> In linear algebra, one particular marrix acts very similarly to how 1 behaves for scalar numbers."
      ],
      "metadata": {
        "id": "uhijtAE0OwB4"
      }
    },
    {
      "cell_type": "code",
      "source": [
        "I = np.eye(3)\n",
        "x = np.reshape(np.arange(9), (3, 3))\n",
        "y = np.array([1, 2, 3])\n",
        "\n",
        "print(\"I: \\n\", I)\n",
        "print(\"x: \\n\", x)\n",
        "print(\"y: \\n\", y)"
      ],
      "metadata": {
        "colab": {
          "base_uri": "https://localhost:8080/"
        },
        "id": "5YsksmlbPCxL",
        "outputId": "cf85c505-952e-4464-d474-f59f1652ef84"
      },
      "execution_count": 21,
      "outputs": [
        {
          "output_type": "stream",
          "name": "stdout",
          "text": [
            "I: \n",
            " [[1. 0. 0.]\n",
            " [0. 1. 0.]\n",
            " [0. 0. 1.]]\n",
            "x: \n",
            " [[0 1 2]\n",
            " [3 4 5]\n",
            " [6 7 8]]\n",
            "y: \n",
            " [1 2 3]\n"
          ]
        }
      ]
    },
    {
      "cell_type": "code",
      "source": [
        "print(\"I @ x: \\n\",I @ x)\n",
        "print(\"\\nx @ I: \\n\", x @ I)\n",
        "print(\"\\nI @ y: \\n\", I @ y)\n",
        "print(\"\\ny @ I: \\n\", y @ I )"
      ],
      "metadata": {
        "colab": {
          "base_uri": "https://localhost:8080/"
        },
        "id": "ZYB8fJNRRbXK",
        "outputId": "1a3a5414-419f-43b8-9bac-9a0598bd4426"
      },
      "execution_count": 23,
      "outputs": [
        {
          "output_type": "stream",
          "name": "stdout",
          "text": [
            "I @ x: \n",
            " [[0. 1. 2.]\n",
            " [3. 4. 5.]\n",
            " [6. 7. 8.]]\n",
            "\n",
            "x @ I: \n",
            " [[0. 1. 2.]\n",
            " [3. 4. 5.]\n",
            " [6. 7. 8.]]\n",
            "\n",
            "I @ y: \n",
            " [1. 2. 3.]\n",
            "\n",
            "y @ I: \n",
            " [1. 2. 3.]\n"
          ]
        }
      ]
    }
  ]
}