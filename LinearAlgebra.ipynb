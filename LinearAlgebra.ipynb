{
  "nbformat": 4,
  "nbformat_minor": 0,
  "metadata": {
    "colab": {
      "provenance": [],
      "authorship_tag": "ABX9TyPika8TafnTrUwQZ1++yLda",
      "include_colab_link": true
    },
    "kernelspec": {
      "name": "python3",
      "display_name": "Python 3"
    },
    "language_info": {
      "name": "python"
    }
  },
  "cells": [
    {
      "cell_type": "markdown",
      "metadata": {
        "id": "view-in-github",
        "colab_type": "text"
      },
      "source": [
        "<a href=\"https://colab.research.google.com/github/uzair011/Advance-python/blob/main/LinearAlgebra.ipynb\" target=\"_parent\"><img src=\"https://colab.research.google.com/assets/colab-badge.svg\" alt=\"Open In Colab\"/></a>"
      ]
    },
    {
      "cell_type": "markdown",
      "source": [
        "### VECTORS\n"
      ],
      "metadata": {
        "id": "GD0mqZw_lYqe"
      }
    },
    {
      "cell_type": "code",
      "execution_count": 1,
      "metadata": {
        "id": "A6AWxALydQqc"
      },
      "outputs": [],
      "source": [
        "import numpy as np\n",
        "import matplotlib.pyplot as plt\n"
      ]
    },
    {
      "cell_type": "code",
      "source": [
        "x = np.array([[1,2,3],[4,5,6], [7,8,9]])\n",
        "print(x)\n",
        "print(\"X transpose is : \\n\", x.transpose())"
      ],
      "metadata": {
        "colab": {
          "base_uri": "https://localhost:8080/"
        },
        "id": "bgJnxEVhnOWI",
        "outputId": "65cd3717-0ada-457f-ae7c-d79150a5350e"
      },
      "execution_count": 2,
      "outputs": [
        {
          "output_type": "stream",
          "name": "stdout",
          "text": [
            "[[1 2 3]\n",
            " [4 5 6]\n",
            " [7 8 9]]\n",
            "X transpose is : \n",
            " [[1 4 7]\n",
            " [2 5 8]\n",
            " [3 6 9]]\n"
          ]
        }
      ]
    },
    {
      "cell_type": "code",
      "source": [
        "print(x)"
      ],
      "metadata": {
        "colab": {
          "base_uri": "https://localhost:8080/"
        },
        "id": "leotIoAooAGv",
        "outputId": "5065d044-528c-475b-9bac-163dafcf1865"
      },
      "execution_count": 3,
      "outputs": [
        {
          "output_type": "stream",
          "name": "stdout",
          "text": [
            "[[1 2 3]\n",
            " [4 5 6]\n",
            " [7 8 9]]\n"
          ]
        }
      ]
    },
    {
      "cell_type": "code",
      "source": [
        "print(\"Scalar addition\", 4 + x)\n",
        "print(\"Scalar subtraction\", 4 - x)\n",
        "print(\"Scalar multiplication\", 4 * x)\n",
        "print(\"Scalar division\", 4 / x)"
      ],
      "metadata": {
        "colab": {
          "base_uri": "https://localhost:8080/"
        },
        "id": "T85hYUzKjVzQ",
        "outputId": "eb1b36cb-cb5a-45e8-8bd0-25efad126838"
      },
      "execution_count": 4,
      "outputs": [
        {
          "output_type": "stream",
          "name": "stdout",
          "text": [
            "Scalar addition [[ 5  6  7]\n",
            " [ 8  9 10]\n",
            " [11 12 13]]\n",
            "Scalar subtraction [[ 3  2  1]\n",
            " [ 0 -1 -2]\n",
            " [-3 -4 -5]]\n",
            "Scalar multiplication [[ 4  8 12]\n",
            " [16 20 24]\n",
            " [28 32 36]]\n",
            "Scalar division [[4.         2.         1.33333333]\n",
            " [1.         0.8        0.66666667]\n",
            " [0.57142857 0.5        0.44444444]]\n"
          ]
        }
      ]
    },
    {
      "cell_type": "markdown",
      "source": [
        "###Dot Product\n"
      ],
      "metadata": {
        "id": "2cBcApxoj3dZ"
      }
    },
    {
      "cell_type": "code",
      "source": [
        "x = np.array([1, 2, 3])\n",
        "y = np.array([4, 5, 6])\n",
        "\n",
        "print(\"Dot product\", np.dot(x,y))\n",
        "print(\"Dot product with @\", x @ y)"
      ],
      "metadata": {
        "colab": {
          "base_uri": "https://localhost:8080/"
        },
        "id": "Hm8V9cB4j6Wz",
        "outputId": "b8c48615-d1fd-4608-a8d5-607e85fc49e5"
      },
      "execution_count": 5,
      "outputs": [
        {
          "output_type": "stream",
          "name": "stdout",
          "text": [
            "Dot product 32\n",
            "Dot product with @ 32\n"
          ]
        }
      ]
    },
    {
      "cell_type": "markdown",
      "source": [
        "###MATRICES\n"
      ],
      "metadata": {
        "id": "wdxR9OFflImb"
      }
    },
    {
      "cell_type": "code",
      "source": [
        "# In Numpy matrix is a 2D array\n",
        "x = np.array([[1, 2, 3], [4, 5, 6]])\n",
        "y = np.ones((2, 3))\n",
        "z = np.array([[1, 2], [3, 4], [5, 6]])\n",
        "\n",
        "print(\"x: \",x)\n",
        "print()\n",
        "print(\"y: \",y)\n",
        "print()\n",
        "print(\"z: \",z)"
      ],
      "metadata": {
        "colab": {
          "base_uri": "https://localhost:8080/"
        },
        "id": "1Ku5Y-0xlQ7i",
        "outputId": "ad29c21a-d069-478b-9a1f-ca1be31b62ae"
      },
      "execution_count": 11,
      "outputs": [
        {
          "output_type": "stream",
          "name": "stdout",
          "text": [
            "x:  [[1 2 3]\n",
            " [4 5 6]]\n",
            "\n",
            "y:  [[1. 1. 1.]\n",
            " [1. 1. 1.]]\n",
            "\n",
            "z:  [[1 2]\n",
            " [3 4]\n",
            " [5 6]]\n"
          ]
        }
      ]
    }
  ]
}